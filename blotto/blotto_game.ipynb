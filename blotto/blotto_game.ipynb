{
 "cells": [
  {
   "cell_type": "code",
   "execution_count": 5,
   "metadata": {},
   "outputs": [],
   "source": [
    "import blotto\n",
    "\n",
    "def play_capture_game(player1_units=3, player2_units=3, posts=2):\n",
    "    game = blotto.BlottoCaptureGame(player1_units, player2_units, posts)\n",
    "    play_game(game)\n",
    "\n",
    "def play_nocapture_game(player1_units=3, player2_units=3, posts=2):\n",
    "    game = blotto.BlottoNoCaptureGame(player1_units, player2_units, posts)\n",
    "    play_game(game)\n",
    "\n",
    "def play_game(game):\n",
    "    print(game.player1)\n",
    "    print(game.player2)\n",
    "    game.group_matrix.show()\n",
    "    game.group_matrix.simplify()\n",
    "    game.group_matrix.show_simple()\n",
    "    game.solve()\n",
    "    return game\n"
   ]
  },
  {
   "cell_type": "code",
   "execution_count": null,
   "metadata": {},
   "outputs": [
    {
     "name": "stdout",
     "output_type": "stream",
     "text": [
      "Blotto has 3 units\n",
      "Primary Strategies: [(0, 3), (1, 2)]\n",
      "-----------------\n",
      "Kije has 3 units\n",
      "Primary Strategies: [(0, 3), (1, 2)]\n",
      "-----------------\n",
      "Group Matrix:\n",
      "              [0 3]*     [1 2]*  \n",
      "   [0 3]*      0.0        1.5    \n",
      "   [1 2]*      -1.5       0.0    \n",
      "\n",
      "Group Matrix simplified:\n",
      "              [0 3]*  \n",
      "   [0 3]*      0.0    \n",
      "\n",
      "Value of the game: -0.0\n",
      "Optimal strategy for player 1: [1.0]\n",
      "Optimal strategy for player 2: [1.0]\n"
     ]
    }
   ],
   "source": [
    "play_capture_game()"
   ]
  },
  {
   "cell_type": "code",
   "execution_count": 8,
   "metadata": {},
   "outputs": [
    {
     "name": "stdout",
     "output_type": "stream",
     "text": [
      "Blotto has 4 units\n",
      "Primary Strategies: [(0, 4), (1, 3), (2, 2)]\n",
      "-----------------\n",
      "Kije has 3 units\n",
      "Primary Strategies: [(0, 3), (1, 2)]\n",
      "-----------------\n",
      "Group Matrix:\n",
      "              [0 3]*     [1 2]*  \n",
      "   [0 4]*      2.0        1.5    \n",
      "   [1 3]*      0.0        1.5    \n",
      "   [2 2]*      -2.0       2.0    \n",
      "\n",
      "Group Matrix simplified:\n",
      "              [0 3]*     [1 2]*  \n",
      "   [0 4]*      2.0        1.5    \n",
      "   [1 3]*      0.0        1.5    \n",
      "   [2 2]*      -2.0       2.0    \n",
      "\n",
      "Value of the game: 1.56\n",
      "Optimal strategy for player 1: [0.89, 0.0, 0.11]\n",
      "Optimal strategy for player 2: [0.11, 0.89]\n"
     ]
    }
   ],
   "source": [
    "play_capture_game(4, 3, 2)"
   ]
  },
  {
   "cell_type": "code",
   "execution_count": 9,
   "metadata": {},
   "outputs": [
    {
     "name": "stdout",
     "output_type": "stream",
     "text": [
      "Blotto has 6 units\n",
      "Primary Strategies: [(0, 6), (1, 5), (2, 4), (3, 3)]\n",
      "-----------------\n",
      "Kije has 3 units\n",
      "Primary Strategies: [(0, 3), (1, 2)]\n",
      "-----------------\n",
      "Group Matrix:\n",
      "              [0 3]*     [1 2]*  \n",
      "   [0 6]*      0.5        0.0    \n",
      "   [1 5]*      1.0        0.5    \n",
      "   [2 4]*      1.0        1.5    \n",
      "   [3 3]*      1.0        2.0    \n",
      "\n",
      "Group Matrix simplified:\n",
      "              [0 3]*     [1 2]*  \n",
      "   [1 5]*      1.0        0.5    \n",
      "   [2 4]*      1.0        1.5    \n",
      "   [3 3]*      1.0        2.0    \n",
      "\n",
      "Value of the game: 1.0\n",
      "Optimal strategy for player 1: [0.67, 0.0, 0.33]\n",
      "Optimal strategy for player 2: [1.0, 0.0]\n"
     ]
    }
   ],
   "source": [
    "play_nocapture_game(6, 3, 2)"
   ]
  },
  {
   "cell_type": "code",
   "execution_count": 10,
   "metadata": {},
   "outputs": [
    {
     "name": "stdout",
     "output_type": "stream",
     "text": [
      "Blotto has 6 units\n",
      "Primary Strategies: [(0, 6), (1, 5), (2, 4), (3, 3)]\n",
      "-----------------\n",
      "Kije has 4 units\n",
      "Primary Strategies: [(0, 4), (1, 3), (2, 2)]\n",
      "-----------------\n",
      "Group Matrix:\n",
      "              [0 4]*     [1 3]*     [2 2]*  \n",
      "   [0 6]*      0.5        0.0        0.0    \n",
      "   [1 5]*      1.0        0.5        0.0    \n",
      "   [2 4]*      0.5        1.0        1.0    \n",
      "   [3 3]*      0.0        1.0        2.0    \n",
      "\n",
      "Group Matrix simplified:\n",
      "              [0 4]*     [1 3]*     [2 2]*  \n",
      "   [0 6]*      0.5        0.0        0.0    \n",
      "   [1 5]*      1.0        0.5        0.0    \n",
      "   [2 4]*      0.5        1.0        1.0    \n",
      "   [3 3]*      0.0        1.0        2.0    \n",
      "\n",
      "Value of the game: 0.67\n",
      "Optimal strategy for player 1: [0.0, 0.67, 0.0, 0.33]\n",
      "Optimal strategy for player 2: [0.67, 0.0, 0.33]\n"
     ]
    }
   ],
   "source": [
    "play_nocapture_game(6, 4, 2)"
   ]
  },
  {
   "cell_type": "code",
   "execution_count": 12,
   "metadata": {},
   "outputs": [
    {
     "name": "stdout",
     "output_type": "stream",
     "text": [
      "Blotto has 6 units\n",
      "Primary Strategies: [(0, 6), (1, 5), (2, 4), (3, 3)]\n",
      "-----------------\n",
      "Kije has 5 units\n",
      "Primary Strategies: [(0, 5), (1, 4), (2, 3)]\n",
      "-----------------\n",
      "Group Matrix:\n",
      "              [0 5]*     [1 4]*     [2 3]*  \n",
      "   [0 6]*      0.5        0.0        0.0    \n",
      "   [1 5]*      0.5        0.5        0.0    \n",
      "   [2 4]*      0.0        0.5        0.5    \n",
      "   [3 3]*      0.0        0.0        1.0    \n",
      "\n",
      "Group Matrix simplified:\n",
      "              [0 5]*     [1 4]*     [2 3]*  \n",
      "   [0 6]*      0.5        0.0        0.0    \n",
      "   [1 5]*      0.5        0.5        0.0    \n",
      "   [2 4]*      0.0        0.5        0.5    \n",
      "   [3 3]*      0.0        0.0        1.0    \n",
      "\n",
      "Value of the game: 0.33\n",
      "Optimal strategy for player 1: [-0.0, 0.67, 0.0, 0.33]\n",
      "Optimal strategy for player 2: [0.67, 0.0, 0.33]\n"
     ]
    }
   ],
   "source": [
    "play_nocapture_game(6, 5, 2)"
   ]
  },
  {
   "cell_type": "code",
   "execution_count": 15,
   "metadata": {},
   "outputs": [
    {
     "name": "stdout",
     "output_type": "stream",
     "text": [
      "Blotto has 6 units\n",
      "Primary Strategies: [(0, 6), (1, 5), (2, 4), (3, 3)]\n",
      "-----------------\n",
      "Kije has 6 units\n",
      "Primary Strategies: [(0, 6), (1, 5), (2, 4), (3, 3)]\n",
      "-----------------\n",
      "Group Matrix:\n",
      "              [0 6]*     [1 5]*     [2 4]*     [3 3]*  \n",
      "   [0 6]*      0.0        0.0        0.0        0.0    \n",
      "   [1 5]*      0.0        0.0        0.0        0.0    \n",
      "   [2 4]*      0.0        0.0        0.0        0.0    \n",
      "   [3 3]*      0.0        0.0        0.0        0.0    \n",
      "\n",
      "Group Matrix simplified:\n",
      "              [0 6]*     [1 5]*     [2 4]*     [3 3]*  \n",
      "   [0 6]*      0.0        0.0        0.0        0.0    \n",
      "   [1 5]*      0.0        0.0        0.0        0.0    \n",
      "   [2 4]*      0.0        0.0        0.0        0.0    \n",
      "   [3 3]*      0.0        0.0        0.0        0.0    \n",
      "\n",
      "Value of the game: -0.0\n",
      "Optimal strategy for player 1: [1.0, 0.0, 0.0, 0.0]\n",
      "Optimal strategy for player 2: [1.0, 0.0, 0.0, 0.0]\n"
     ]
    }
   ],
   "source": [
    "play_nocapture_game(6, 6, 2)"
   ]
  },
  {
   "cell_type": "code",
   "execution_count": 16,
   "metadata": {},
   "outputs": [
    {
     "name": "stdout",
     "output_type": "stream",
     "text": [
      "Blotto has 8 units\n",
      "Primary Strategies: [(0, 0, 8), (0, 1, 7), (0, 2, 6), (0, 3, 5), (0, 4, 4), (1, 1, 6), (1, 2, 5), (1, 3, 4), (2, 2, 4), (2, 3, 3)]\n",
      "-----------------\n",
      "Kije has 5 units\n",
      "Primary Strategies: [(0, 0, 5), (0, 1, 4), (0, 2, 3), (1, 1, 3), (1, 2, 2)]\n",
      "-----------------\n",
      "Group Matrix:\n",
      "             [0 0 5]*   [0 1 4]*   [0 2 3]*   [1 1 3]*   [1 2 2]* \n",
      "  [0 0 8]*     0.33      -0.33      -0.33       -1.0       -1.0   \n",
      "  [0 1 7]*     1.0        0.33       0.0       -0.33      -0.67   \n",
      "  [0 2 6]*     1.0        0.67       0.33       0.33       0.33   \n",
      "  [0 3 5]*     0.67       0.67       1.0        0.67       1.0    \n",
      "  [0 4 4]*     0.33       0.67       1.33       1.0        1.0    \n",
      "  [1 1 6]*     1.67       1.0        0.33       0.33      -0.33   \n",
      "  [1 2 5]*     1.33       1.33       0.67       1.0        0.67   \n",
      "  [1 3 4]*     1.0        1.0        1.33       1.33       1.33   \n",
      "  [2 2 4]*     1.0        1.33       1.0        1.67       1.67   \n",
      "  [2 3 3]*     1.0        1.0        1.33       1.67       2.33   \n",
      "\n",
      "Group Matrix simplified:\n",
      "             [0 0 5]*   [0 1 4]*   [0 2 3]*   [1 1 3]*   [1 2 2]* \n",
      "  [0 4 4]*     0.33       0.67       1.33       1.0        1.0    \n",
      "  [1 1 6]*     1.67       1.0        0.33       0.33      -0.33   \n",
      "  [1 2 5]*     1.33       1.33       0.67       1.0        0.67   \n",
      "  [1 3 4]*     1.0        1.0        1.33       1.33       1.33   \n",
      "  [2 2 4]*     1.0        1.33       1.0        1.67       1.67   \n",
      "  [2 3 3]*     1.0        1.0        1.33       1.67       2.33   \n",
      "\n",
      "Value of the game: 1.11\n",
      "Optimal strategy for player 1: [0.0, 0.0, 0.33, 0.67, -0.0, 0.0]\n",
      "Optimal strategy for player 2: [0.33, 0.33, 0.33, 0.0, 0.0]\n"
     ]
    }
   ],
   "source": [
    "play_nocapture_game(8, 5, 3)"
   ]
  },
  {
   "cell_type": "code",
   "execution_count": 17,
   "metadata": {},
   "outputs": [
    {
     "name": "stdout",
     "output_type": "stream",
     "text": [
      "Blotto has 6 units\n",
      "Primary Strategies: [(0, 6), (1, 5), (2, 4), (3, 3)]\n",
      "-----------------\n",
      "Kije has 3 units\n",
      "Primary Strategies: [(0, 3), (1, 2)]\n",
      "-----------------\n",
      "Group Matrix:\n",
      "              [0 3]*     [1 2]*  \n",
      "   [0 6]*      2.0        1.5    \n",
      "   [1 5]*      2.0        1.5    \n",
      "   [2 4]*      1.5        3.5    \n",
      "   [3 3]*      1.0        5.0    \n",
      "\n",
      "Group Matrix simplified:\n",
      "              [0 3]*     [1 2]*  \n",
      "   [0 6]*      2.0        1.5    \n",
      "   [1 5]*      2.0        1.5    \n",
      "   [2 4]*      1.5        3.5    \n",
      "   [3 3]*      1.0        5.0    \n",
      "\n",
      "Value of the game: 1.9\n",
      "Optimal strategy for player 1: [0.8, 0.0, 0.2, 0.0]\n",
      "Optimal strategy for player 2: [0.8, 0.2]\n"
     ]
    }
   ],
   "source": [
    "play_capture_game(6, 3, 2)"
   ]
  },
  {
   "cell_type": "code",
   "execution_count": 18,
   "metadata": {},
   "outputs": [
    {
     "name": "stdout",
     "output_type": "stream",
     "text": [
      "Blotto has 6 units\n",
      "Primary Strategies: [(0, 6), (1, 5), (2, 4), (3, 3)]\n",
      "-----------------\n",
      "Kije has 4 units\n",
      "Primary Strategies: [(0, 4), (1, 3), (2, 2)]\n",
      "-----------------\n",
      "Group Matrix:\n",
      "              [0 4]*     [1 3]*     [2 2]*  \n",
      "   [0 6]*      2.5        2.0        2.0    \n",
      "   [1 5]*      2.5        2.0        1.0    \n",
      "   [2 4]*      -0.5       2.5        3.0    \n",
      "   [3 3]*      -3.0       2.0        6.0    \n",
      "\n",
      "Group Matrix simplified:\n",
      "              [0 4]*     [1 3]*     [2 2]*  \n",
      "   [0 6]*      2.5        2.0        2.0    \n",
      "   [1 5]*      2.5        2.0        1.0    \n",
      "   [2 4]*      -0.5       2.5        3.0    \n",
      "   [3 3]*      -3.0       2.0        6.0    \n",
      "\n",
      "Value of the game: 2.07\n",
      "Optimal strategy for player 1: [0.86, 0.0, 0.14, 0.0]\n",
      "Optimal strategy for player 2: [0.14, 0.86, 0.0]\n"
     ]
    }
   ],
   "source": [
    "play_capture_game(6, 4, 2)"
   ]
  },
  {
   "cell_type": "code",
   "execution_count": 19,
   "metadata": {},
   "outputs": [
    {
     "name": "stdout",
     "output_type": "stream",
     "text": [
      "Blotto has 6 units\n",
      "Primary Strategies: [(0, 6), (1, 5), (2, 4), (3, 3)]\n",
      "-----------------\n",
      "Kije has 5 units\n",
      "Primary Strategies: [(0, 5), (1, 4), (2, 3)]\n",
      "-----------------\n",
      "Group Matrix:\n",
      "              [0 5]*     [1 4]*     [2 3]*  \n",
      "   [0 6]*      3.0        2.5        2.5    \n",
      "   [1 5]*      0.0        2.5        1.5    \n",
      "   [2 4]*      -3.0       0.5        2.0    \n",
      "   [3 3]*      -3.0       -2.0       3.0    \n",
      "\n",
      "Group Matrix simplified:\n",
      "              [0 5]*     [1 4]*     [2 3]*  \n",
      "   [0 6]*      3.0        2.5        2.5    \n",
      "   [1 5]*      0.0        2.5        1.5    \n",
      "   [3 3]*      -3.0       -2.0       3.0    \n",
      "\n",
      "Value of the game: 2.5\n",
      "Optimal strategy for player 1: [1.0, -0.0, 0.0]\n",
      "Optimal strategy for player 2: [0.0, 1.0, 0.0]\n"
     ]
    }
   ],
   "source": [
    "play_capture_game(6, 5, 2)"
   ]
  },
  {
   "cell_type": "code",
   "execution_count": 20,
   "metadata": {},
   "outputs": [
    {
     "name": "stdout",
     "output_type": "stream",
     "text": [
      "Blotto has 6 units\n",
      "Primary Strategies: [(0, 6), (1, 5), (2, 4), (3, 3)]\n",
      "-----------------\n",
      "Kije has 6 units\n",
      "Primary Strategies: [(0, 6), (1, 5), (2, 4), (3, 3)]\n",
      "-----------------\n",
      "Group Matrix:\n",
      "              [0 6]*     [1 5]*     [2 4]*     [3 3]*  \n",
      "   [0 6]*      0.0        3.0        3.0        3.0    \n",
      "   [1 5]*      -3.0       0.0        2.0        2.0    \n",
      "   [2 4]*      -3.0       -2.0       0.0        1.0    \n",
      "   [3 3]*      -3.0       -2.0       -1.0       0.0    \n",
      "\n",
      "Group Matrix simplified:\n",
      "              [0 6]*  \n",
      "   [0 6]*      0.0    \n",
      "\n",
      "Value of the game: -0.0\n",
      "Optimal strategy for player 1: [1.0]\n",
      "Optimal strategy for player 2: [1.0]\n"
     ]
    }
   ],
   "source": [
    "play_capture_game(6, 6, 2)"
   ]
  },
  {
   "cell_type": "code",
   "execution_count": 21,
   "metadata": {},
   "outputs": [
    {
     "name": "stdout",
     "output_type": "stream",
     "text": [
      "Blotto has 8 units\n",
      "Primary Strategies: [(0, 0, 8), (0, 1, 7), (0, 2, 6), (0, 3, 5), (0, 4, 4), (1, 1, 6), (1, 2, 5), (1, 3, 4), (2, 2, 4), (2, 3, 3)]\n",
      "-----------------\n",
      "Kije has 5 units\n",
      "Primary Strategies: [(0, 0, 5), (0, 1, 4), (0, 2, 3), (1, 1, 3), (1, 2, 2)]\n",
      "-----------------\n",
      "Group Matrix:\n",
      "             [0 0 5]*   [0 1 4]*   [0 2 3]*   [1 1 3]*   [1 2 2]* \n",
      "  [0 0 8]*     2.0        1.33       1.33       0.67       0.67   \n",
      "  [0 1 7]*     2.33       1.67       1.0        1.0        0.33   \n",
      "  [0 2 6]*     2.0        2.0        1.33       2.0        2.33   \n",
      "  [0 3 5]*    -0.33       1.67       3.33       3.0        4.33   \n",
      "  [0 4 4]*    -2.33       1.33       4.67       4.33       4.33   \n",
      "  [1 1 6]*     2.67       2.0        0.67       1.33       0.0    \n",
      "  [1 2 5]*     0.33       2.33       1.0        2.33       2.0    \n",
      "  [1 3 4]*    -1.67       0.33       3.0        3.33       4.0    \n",
      "  [2 2 4]*    -1.67       1.0        1.33       3.33       4.0    \n",
      "  [2 3 3]*    -1.67      -0.67       2.0        3.0        6.0    \n",
      "\n",
      "Group Matrix simplified:\n",
      "             [0 0 5]*   [0 1 4]*   [0 2 3]*   [1 1 3]*   [1 2 2]* \n",
      "  [0 0 8]*     2.0        1.33       1.33       0.67       0.67   \n",
      "  [0 1 7]*     2.33       1.67       1.0        1.0        0.33   \n",
      "  [0 2 6]*     2.0        2.0        1.33       2.0        2.33   \n",
      "  [0 3 5]*    -0.33       1.67       3.33       3.0        4.33   \n",
      "  [0 4 4]*    -2.33       1.33       4.67       4.33       4.33   \n",
      "  [1 1 6]*     2.67       2.0        0.67       1.33       0.0    \n",
      "  [1 2 5]*     0.33       2.33       1.0        2.33       2.0    \n",
      "  [1 3 4]*    -1.67       0.33       3.0        3.33       4.0    \n",
      "  [2 2 4]*    -1.67       1.0        1.33       3.33       4.0    \n",
      "  [2 3 3]*    -1.67      -0.67       2.0        3.0        6.0    \n",
      "\n",
      "Value of the game: 1.64\n",
      "Optimal strategy for player 1: [0.38, 0.0, 0.46, 0.15, 0.0, 0.0, 0.0, 0.0, 0.0, 0.0]\n",
      "Optimal strategy for player 2: [0.46, 0.0, 0.54, -0.0, 0.0]\n"
     ]
    }
   ],
   "source": [
    "play_capture_game(8, 5, 3)"
   ]
  }
 ],
 "metadata": {
  "kernelspec": {
   "display_name": "Python 3",
   "language": "python",
   "name": "python3"
  },
  "language_info": {
   "codemirror_mode": {
    "name": "ipython",
    "version": 3
   },
   "file_extension": ".py",
   "mimetype": "text/x-python",
   "name": "python",
   "nbconvert_exporter": "python",
   "pygments_lexer": "ipython3",
   "version": "3.12.4"
  }
 },
 "nbformat": 4,
 "nbformat_minor": 2
}

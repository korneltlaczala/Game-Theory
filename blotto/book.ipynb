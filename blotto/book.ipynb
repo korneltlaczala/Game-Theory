{
 "cells": [
  {
   "cell_type": "markdown",
   "metadata": {},
   "source": [
    "# Initial setup"
   ]
  },
  {
   "cell_type": "code",
   "execution_count": 25,
   "metadata": {},
   "outputs": [],
   "source": [
    "import old_solver\n",
    "import game_solver\n",
    "\n",
    "def test_solver(matrix):\n",
    "    solver = old_solver.Solver(matrix)\n",
    "    solver.display_matrix()\n",
    "    print(\"==== Testing old solver ====\")\n",
    "    solver.display_result()\n",
    "\n",
    "    print(\"==== Testing new solver ====\")\n",
    "    game_solver.solve(matrix)"
   ]
  },
  {
   "cell_type": "markdown",
   "metadata": {},
   "source": [
    "# Strategic form\n",
    "### Odd or Even | page 5"
   ]
  },
  {
   "cell_type": "code",
   "execution_count": 17,
   "metadata": {},
   "outputs": [
    {
     "name": "stdout",
     "output_type": "stream",
     "text": [
      "[[-2  3]\n",
      " [ 3 -4]]\n",
      "==== Testing old solver ====\n",
      "Value of the game: 0.08\n",
      "Value 1: 0.08\n",
      "Value 2: 0.08\n",
      "Optimal strategy for player 1: [0.58, 0.42]\n",
      "Optimal strategy for player 2: [0.58, 0.42]\n",
      "==== Testing new solver ====\n",
      "Value of the game: 0.08\n",
      "Optimal strategy for player 1: [0.58, 0.42]\n",
      "Optimal strategy for player 2: [0.58, 0.42]\n",
      "Value for player 1: 0.08\n",
      "Value for player 2: 0.08\n"
     ]
    }
   ],
   "source": [
    "matrix = [[-2, 3],\n",
    "          [3, -4]]\n",
    "test_solver(matrix)"
   ]
  },
  {
   "cell_type": "markdown",
   "metadata": {},
   "source": [
    "### Holmes vs Moriarty | page 9"
   ]
  },
  {
   "cell_type": "code",
   "execution_count": null,
   "metadata": {},
   "outputs": [
    {
     "name": "stdout",
     "output_type": "stream",
     "text": [
      "[[100 -50]\n",
      " [  0 100]]\n",
      "==== Testing old solver ====\n",
      "Value of the game: 40.0\n",
      "Value 1: 40.0\n",
      "Value 2: 40.0\n",
      "Optimal strategy for player 1: [0.4, 0.6]\n",
      "Optimal strategy for player 2: [0.6, 0.4]\n",
      "==== Testing new solver ====\n",
      "Value of the game: 40.0\n",
      "Optimal strategy for player 1: [0.4, 0.6]\n",
      "Optimal strategy for player 2: [0.6, 0.4]\n",
      "Value for player 1: 40.0\n",
      "Value for player 2: 40.0\n"
     ]
    }
   ],
   "source": [
    "matrix = [[100, -50],\n",
    "          [0, 100]]\n",
    "test_solver(matrix)"
   ]
  },
  {
   "cell_type": "markdown",
   "metadata": {},
   "source": [
    "# Dominance\n",
    "### Saddle Point | page 9"
   ]
  },
  {
   "cell_type": "code",
   "execution_count": null,
   "metadata": {},
   "outputs": [
    {
     "name": "stdout",
     "output_type": "stream",
     "text": [
      "[[ 4  1 -3]\n",
      " [ 3  2  5]\n",
      " [ 0  1  6]]\n",
      "==== Testing old solver ====\n",
      "Value of the game: 1.85\n",
      "Value 1: 1.85\n",
      "Value 2: 2.0\n",
      "Optimal strategy for player 1: [0.46, 0.0, 0.54]\n",
      "Optimal strategy for player 2: [0.0, 1.0, 0.0]\n",
      "==== Testing new solver ====\n",
      "Value of the game: 2.0\n",
      "Optimal strategy for player 1: [0.0, 1.0, 0.0]\n",
      "Optimal strategy for player 2: [0.0, 1.0, 0.0]\n",
      "Value for player 1: 2.0\n",
      "Value for player 2: 2.0\n"
     ]
    }
   ],
   "source": [
    "matrix = [[4, 1, -3],\n",
    "          [3, 2, 5],\n",
    "          [0, 1, 6]]\n",
    "test_solver(matrix)"
   ]
  },
  {
   "cell_type": "markdown",
   "metadata": {},
   "source": [
    "### Elimination of dominated strategies | page 12"
   ]
  },
  {
   "cell_type": "code",
   "execution_count": null,
   "metadata": {},
   "outputs": [
    {
     "name": "stdout",
     "output_type": "stream",
     "text": [
      "====================\n",
      "=== Full matrix ====\n",
      "====================\n",
      "[[2 0 4]\n",
      " [1 2 3]\n",
      " [4 1 2]]\n",
      "==== Testing old solver ====\n",
      "Value of the game: 2.5\n",
      "Value 1: 2.5\n",
      "Value 2: 1.75\n",
      "Optimal strategy for player 1: [0.0, 0.5, 0.5]\n",
      "Optimal strategy for player 2: [0.25, 0.75, 0.0]\n",
      "==== Testing new solver ====\n",
      "Value of the game: 1.75\n",
      "Optimal strategy for player 1: [0.0, 0.75, 0.25]\n",
      "Optimal strategy for player 2: [0.25, 0.75, 0.0]\n",
      "Value for player 1: 1.75\n",
      "Value for player 2: 1.75\n",
      "====================\n",
      "== Reduced matrix ==\n",
      "====================\n",
      "[[1 2]\n",
      " [4 1]]\n",
      "==== Testing old solver ====\n",
      "Value of the game: 1.75\n",
      "Value 1: 1.75\n",
      "Value 2: 1.75\n",
      "Optimal strategy for player 1: [0.75, 0.25]\n",
      "Optimal strategy for player 2: [0.25, 0.75]\n",
      "==== Testing new solver ====\n",
      "Value of the game: 1.75\n",
      "Optimal strategy for player 1: [0.75, 0.25]\n",
      "Optimal strategy for player 2: [0.25, 0.75]\n",
      "Value for player 1: 1.75\n",
      "Value for player 2: 1.75\n"
     ]
    }
   ],
   "source": [
    "matrix = [[2, 0, 4],\n",
    "          [1, 2, 3],\n",
    "          [4, 1, 2]]\n",
    "matrix2 = [[1, 2],\n",
    "           [4, 1]]\n",
    "print(\"====================\")\n",
    "print(\"=== Full matrix ====\")\n",
    "print(\"====================\")\n",
    "test_solver(matrix)\n",
    "print(\"====================\")\n",
    "print(\"== Reduced matrix ==\")\n",
    "print(\"====================\")\n",
    "test_solver(matrix2)"
   ]
  },
  {
   "cell_type": "code",
   "execution_count": 22,
   "metadata": {},
   "outputs": [
    {
     "name": "stdout",
     "output_type": "stream",
     "text": [
      "[[0 4 6]\n",
      " [5 7 4]\n",
      " [9 6 3]]\n",
      "==== Testing old solver ====\n",
      "Value of the game: 4.8\n",
      "Value 1: 4.8\n",
      "Value 2: 4.5\n",
      "Optimal strategy for player 1: [0.6, 0.0, 0.4]\n",
      "Optimal strategy for player 2: [0.25, 0.0, 0.75]\n",
      "==== Testing new solver ====\n",
      "Value of the game: 4.5\n",
      "Optimal strategy for player 1: [0.5, 0.0, 0.5]\n",
      "Optimal strategy for player 2: [0.25, 0.0, 0.75]\n",
      "Value for player 1: 4.5\n",
      "Value for player 2: 4.5\n"
     ]
    }
   ],
   "source": [
    "matrix = [[0, 4, 6],\n",
    "          [5, 7, 4],\n",
    "          [9, 6, 3]]\n",
    "test_solver(matrix)"
   ]
  },
  {
   "cell_type": "markdown",
   "metadata": {},
   "source": [
    "### Non-square matrices | page 13"
   ]
  },
  {
   "cell_type": "code",
   "execution_count": null,
   "metadata": {},
   "outputs": [
    {
     "name": "stdout",
     "output_type": "stream",
     "text": [
      "[[2 3 1 5]\n",
      " [4 1 6 0]]\n",
      "==== Testing old solver ====\n",
      "Value of the game: 3.0\n",
      "Value 1: 3.0\n",
      "Value 2: 2.43\n",
      "Optimal strategy for player 1: [0.6, 0.4]\n",
      "Optimal strategy for player 2: [0.0, 0.71, 0.29, 0.0]\n",
      "==== Testing new solver ====\n",
      "Value of the game: 2.43\n",
      "Optimal strategy for player 1: [0.71, 0.29]\n",
      "Optimal strategy for player 2: [0.0, 0.71, 0.29, 0.0]\n",
      "Value for player 1: 2.43\n",
      "Value for player 2: 2.43\n"
     ]
    }
   ],
   "source": [
    "matrix = [[2, 3, 1, 5],\n",
    "          [4, 1, 6, 0]]\n",
    "test_solver(matrix)"
   ]
  },
  {
   "cell_type": "code",
   "execution_count": 24,
   "metadata": {},
   "outputs": [
    {
     "name": "stdout",
     "output_type": "stream",
     "text": [
      "[[1 5]\n",
      " [4 4]\n",
      " [6 3]]\n",
      "==== Testing old solver ====\n",
      "Value of the game: 3.86\n",
      "Value 1: 3.86\n",
      "Value 2: 4.0\n",
      "Optimal strategy for player 1: [0.43, 0.0, 0.57]\n",
      "Optimal strategy for player 2: [0.33, 0.67]\n",
      "==== Testing new solver ====\n",
      "Value of the game: 4.0\n",
      "Optimal strategy for player 1: [0.0, 1.0, -0.0]\n",
      "Optimal strategy for player 2: [0.33, 0.67]\n",
      "Value for player 1: 4.0\n",
      "Value for player 2: 4.0\n"
     ]
    }
   ],
   "source": [
    "matrix = [[1, 5],\n",
    "          [4, 4],\n",
    "          [6, 3]]\n",
    "test_solver(matrix)"
   ]
  },
  {
   "cell_type": "markdown",
   "metadata": {},
   "source": [
    "# Indifference\n",
    "### Odd or Even 3x3 | page 19"
   ]
  },
  {
   "cell_type": "code",
   "execution_count": null,
   "metadata": {},
   "outputs": [
    {
     "name": "stdout",
     "output_type": "stream",
     "text": [
      "[[ 0  1 -2]\n",
      " [ 1 -2  3]\n",
      " [-2  3 -4]]\n",
      "==== Testing old solver ====\n",
      "Value of the game: 0.0\n",
      "Value 1: 0.0\n",
      "Value 2: 0.0\n",
      "Optimal strategy for player 1: [0.25, 0.5, 0.25]\n",
      "Optimal strategy for player 2: [0.25, 0.5, 0.25]\n",
      "==== Testing new solver ====\n",
      "Value of the game: -0.0\n",
      "Optimal strategy for player 1: [0.25, 0.5, 0.25]\n",
      "Optimal strategy for player 2: [0.25, 0.5, 0.25]\n",
      "Value for player 1: -0.0\n",
      "Value for player 2: 0.0\n"
     ]
    }
   ],
   "source": [
    "matrix = [[0, 1, -2],\n",
    "          [1, -2, 3],\n",
    "          [-2, 3, -4]]\n",
    "test_solver(matrix)"
   ]
  },
  {
   "cell_type": "markdown",
   "metadata": {},
   "source": [
    "### Odd or Even (matrix += 1) | page 21"
   ]
  },
  {
   "cell_type": "code",
   "execution_count": null,
   "metadata": {},
   "outputs": [
    {
     "name": "stdout",
     "output_type": "stream",
     "text": [
      "[[ 1  2 -1]\n",
      " [ 2 -1  4]\n",
      " [-1  4 -3]]\n",
      "==== Testing old solver ====\n",
      "Value of the game: 1.0\n",
      "Value 1: 1.0\n",
      "Value 2: 1.0\n",
      "Optimal strategy for player 1: [0.25, 0.5, 0.25]\n",
      "Optimal strategy for player 2: [0.25, 0.5, 0.25]\n",
      "==== Testing new solver ====\n",
      "Value of the game: 1.0\n",
      "Optimal strategy for player 1: [0.25, 0.5, 0.25]\n",
      "Optimal strategy for player 2: [0.25, 0.5, 0.25]\n",
      "Value for player 1: 1.0\n",
      "Value for player 2: 1.0\n"
     ]
    }
   ],
   "source": [
    "\n",
    "matrix = [[1, 2, -1],\n",
    "          [2, -1, 4],\n",
    "          [-1, 4, -3]]\n",
    "test_solver(matrix)"
   ]
  },
  {
   "cell_type": "markdown",
   "metadata": {},
   "source": [
    "### Diagonal matrix | page 22 "
   ]
  },
  {
   "cell_type": "code",
   "execution_count": null,
   "metadata": {},
   "outputs": [
    {
     "name": "stdout",
     "output_type": "stream",
     "text": [
      "[[1 0 0 0]\n",
      " [0 2 0 0]\n",
      " [0 0 3 0]\n",
      " [0 0 0 4]]\n",
      "==== Testing old solver ====\n",
      "Value of the game: 0.48\n",
      "Value 1: 0.48\n",
      "Value 2: 0.48\n",
      "Optimal strategy for player 1: [0.48, 0.24, 0.16, 0.12]\n",
      "Optimal strategy for player 2: [0.48, 0.24, 0.16, 0.12]\n",
      "==== Testing new solver ====\n",
      "Value of the game: 0.48\n",
      "Optimal strategy for player 1: [0.48, 0.24, 0.16, 0.12]\n",
      "Optimal strategy for player 2: [0.48, 0.24, 0.16, 0.12]\n",
      "Value for player 1: 0.48\n",
      "Value for player 2: 0.48\n"
     ]
    }
   ],
   "source": [
    "\n",
    "matrix = [[1, 0, 0, 0],\n",
    "          [0, 2, 0, 0],\n",
    "          [0, 0, 3, 0],\n",
    "          [0, 0, 0, 4]]\n",
    "test_solver(matrix)"
   ]
  },
  {
   "cell_type": "markdown",
   "metadata": {},
   "source": [
    "### Triangular matrix | page 22"
   ]
  },
  {
   "cell_type": "code",
   "execution_count": null,
   "metadata": {},
   "outputs": [
    {
     "name": "stdout",
     "output_type": "stream",
     "text": [
      "[[ 1 -2  3 -4]\n",
      " [ 0  1 -2  3]\n",
      " [ 0  0  1 -2]\n",
      " [ 0  0  0  1]]\n",
      "==== Testing old solver ====\n",
      "Value of the game: 0.08\n",
      "Value 1: 0.08\n",
      "Value 2: 0.08\n",
      "Optimal strategy for player 1: [0.08, 0.25, 0.33, 0.33]\n",
      "Optimal strategy for player 2: [0.33, 0.33, 0.25, 0.08]\n",
      "==== Testing new solver ====\n",
      "Value of the game: 0.08\n",
      "Optimal strategy for player 1: [0.08, 0.25, 0.33, 0.33]\n",
      "Optimal strategy for player 2: [0.33, 0.33, 0.25, 0.08]\n",
      "Value for player 1: 0.08\n",
      "Value for player 2: 0.08\n"
     ]
    }
   ],
   "source": [
    "matrix = [[1, -2, 3, -4],\n",
    "          [0, 1, -2, 3],\n",
    "          [0, 0, 1, -2],\n",
    "          [0, 0, 0, 1]]\n",
    "test_solver(matrix)"
   ]
  },
  {
   "cell_type": "markdown",
   "metadata": {},
   "source": [
    "# Symmetric games\n",
    "### Rock paper scissors | page 23"
   ]
  },
  {
   "cell_type": "code",
   "execution_count": 15,
   "metadata": {},
   "outputs": [
    {
     "name": "stdout",
     "output_type": "stream",
     "text": [
      "[[ 0 -1  1]\n",
      " [ 1  0 -1]\n",
      " [-1  1  0]]\n",
      "==== Testing old solver ====\n",
      "Value of the game: 0.0\n",
      "Value 1: 0.0\n",
      "Value 2: 0.0\n",
      "Optimal strategy for player 1: [0.33, 0.33, 0.33]\n",
      "Optimal strategy for player 2: [0.33, 0.33, 0.33]\n",
      "==== Testing new solver ====\n",
      "Value of the game: -0.0\n",
      "Optimal strategy for player 1: [0.33, 0.33, 0.33]\n",
      "Optimal strategy for player 2: [0.33, 0.33, 0.33]\n",
      "Value for player 1: -0.0\n",
      "Value for player 2: 0.0\n"
     ]
    }
   ],
   "source": [
    "matrix = [[0, -1, 1],\n",
    "          [1, 0, -1],\n",
    "          [-1, 1, 0]]\n",
    "test_solver(matrix)"
   ]
  },
  {
   "cell_type": "markdown",
   "metadata": {},
   "source": [
    "### Mendelsohn Games"
   ]
  },
  {
   "cell_type": "code",
   "execution_count": 16,
   "metadata": {},
   "outputs": [
    {
     "name": "stdout",
     "output_type": "stream",
     "text": [
      "[[ 0 -1  2]\n",
      " [ 1  0 -1]\n",
      " [-2  1  0]]\n",
      "==== Testing old solver ====\n",
      "Value of the game: 0.0\n",
      "Value 1: 0.0\n",
      "Value 2: 0.0\n",
      "Optimal strategy for player 1: [0.25, 0.5, 0.25]\n",
      "Optimal strategy for player 2: [0.25, 0.5, 0.25]\n",
      "==== Testing new solver ====\n",
      "Value of the game: -0.0\n",
      "Optimal strategy for player 1: [0.25, 0.5, 0.25]\n",
      "Optimal strategy for player 2: [0.25, 0.5, 0.25]\n",
      "Value for player 1: -0.0\n",
      "Value for player 2: 0.0\n"
     ]
    }
   ],
   "source": [
    "matrix = [[0, -1, 2],\n",
    "          [1, 0, -1],\n",
    "          [-2, 1, 0]]\n",
    "test_solver(matrix)"
   ]
  },
  {
   "cell_type": "markdown",
   "metadata": {},
   "source": [
    "## Blotto has it's dedicated file"
   ]
  }
 ],
 "metadata": {
  "kernelspec": {
   "display_name": "Python 3",
   "language": "python",
   "name": "python3"
  },
  "language_info": {
   "codemirror_mode": {
    "name": "ipython",
    "version": 3
   },
   "file_extension": ".py",
   "mimetype": "text/x-python",
   "name": "python",
   "nbconvert_exporter": "python",
   "pygments_lexer": "ipython3",
   "version": "3.12.4"
  }
 },
 "nbformat": 4,
 "nbformat_minor": 2
}

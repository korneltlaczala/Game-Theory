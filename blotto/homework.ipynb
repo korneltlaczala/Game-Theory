{
 "cells": [
  {
   "cell_type": "code",
   "execution_count": 3,
   "metadata": {},
   "outputs": [],
   "source": [
    "import game_solver"
   ]
  },
  {
   "cell_type": "code",
   "execution_count": 5,
   "metadata": {},
   "outputs": [
    {
     "name": "stdout",
     "output_type": "stream",
     "text": [
      "Value of the game: 0.33\n",
      "Optimal strategy for player 1: [0.0, 0.67, 0.33]\n",
      "Optimal strategy for player 2: [0.0, 0.67, 0.33, 0.0]\n",
      "Value for player 1: 0.33\n",
      "Value for player 2: 0.33\n"
     ]
    }
   ],
   "source": [
    "# matrix = [[1, 1, 0, 0],\n",
    "#           [0, 2, 1, 3],\n",
    "#           [3/2, 1/2, -1/2, -3/2],\n",
    "#           [1/2, 3/2, 1/2, 3/2]]\n",
    "matrix = [[-1, -1, 1, 3],\n",
    "          [1, 0, 1, 2],\n",
    "          [1, 1, -1, 1]]\n",
    "\n",
    "game_solver.solve(matrix)"
   ]
  },
  {
   "cell_type": "code",
   "execution_count": 6,
   "metadata": {},
   "outputs": [
    {
     "name": "stdout",
     "output_type": "stream",
     "text": [
      "Value of the game: 0.5\n",
      "Optimal strategy for player 1: [0.0, 0.67, 0.33, 0.0]\n",
      "Optimal strategy for player 2: [0.5, 0.0, 0.5, 0.0]\n",
      "Value for player 1: 0.5\n",
      "Value for player 2: 0.5\n"
     ]
    }
   ],
   "source": [
    "matrix = [[1, 1, 0, 0],\n",
    "          [0, 2, 1, 3],\n",
    "          [3/2, 1/2, -1/2, -3/2],\n",
    "          [1/2, 3/2, 1/2, 3/2]]\n",
    "game_solver.solve(matrix)"
   ]
  }
 ],
 "metadata": {
  "kernelspec": {
   "display_name": "Python 3",
   "language": "python",
   "name": "python3"
  },
  "language_info": {
   "codemirror_mode": {
    "name": "ipython",
    "version": 3
   },
   "file_extension": ".py",
   "mimetype": "text/x-python",
   "name": "python",
   "nbconvert_exporter": "python",
   "pygments_lexer": "ipython3",
   "version": "3.10.8"
  }
 },
 "nbformat": 4,
 "nbformat_minor": 2
}

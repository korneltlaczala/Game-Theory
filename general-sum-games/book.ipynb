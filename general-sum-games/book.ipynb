{
 "cells": [
  {
   "cell_type": "code",
   "execution_count": 1,
   "metadata": {},
   "outputs": [],
   "source": [
    "import game_solver\n",
    "import numpy as np"
   ]
  },
  {
   "cell_type": "markdown",
   "metadata": {},
   "source": [
    "# Safety levels\n",
    "\n",
    "#### safety level of Player II is equall to Val(B.T), not Val(B)"
   ]
  },
  {
   "cell_type": "code",
   "execution_count": 2,
   "metadata": {},
   "outputs": [
    {
     "name": "stdout",
     "output_type": "stream",
     "text": [
      "Value of the game: 1.5\n",
      "Optimal strategy for player 1: [0.75, 0.25]\n",
      "Optimal strategy for player 2: [0.5, 0.5]\n",
      "Value for player 1: 1.5\n",
      "Value for player 2: 1.5\n",
      "Value of the game: 1.0\n",
      "Optimal strategy for player 1: [0.0, 1.0]\n",
      "Optimal strategy for player 2: [1.0, 0.0]\n",
      "Value for player 1: 1.0\n",
      "Value for player 2: 1.0\n",
      "Value of the game: 2.0\n",
      "Optimal strategy for player 1: [0.0, 1.0]\n",
      "Optimal strategy for player 2: [0.0, 1.0]\n",
      "Value for player 1: 2.0\n",
      "Value for player 2: 2.0\n"
     ]
    }
   ],
   "source": [
    "A = [[2, 1],\n",
    "     [0, 3]]\n",
    "B = [[0, 3],\n",
    "     [1, 2]]\n",
    "\n",
    "game_solver.solve(A)\n",
    "game_solver.solve(B)\n",
    "\n",
    "B = np.array(B)\n",
    "B = B.T\n",
    "game_solver.solve(B)"
   ]
  },
  {
   "cell_type": "markdown",
   "metadata": {},
   "source": [
    "### Same with GeneralSolver"
   ]
  },
  {
   "cell_type": "code",
   "execution_count": 12,
   "metadata": {},
   "outputs": [
    {
     "name": "stdout",
     "output_type": "stream",
     "text": [
      "Safety level of player 1: 1.5\n",
      "Safety level of player 2: 2.0\n"
     ]
    }
   ],
   "source": [
    "A = [[2, 1],\n",
    "     [0, 3]]\n",
    "B = [[0, 3],\n",
    "     [1, 2]]\n",
    "solver = game_solver.GeneralSolver(A, B)\n",
    "solver.display_solution()"
   ]
  },
  {
   "cell_type": "code",
   "execution_count": 13,
   "metadata": {},
   "outputs": [
    {
     "name": "stdout",
     "output_type": "stream",
     "text": [
      "[[0 3]\n",
      " [1 2]]\n",
      "Value of the game: 1.0\n",
      "Optimal strategy for player 1: [0.0, 1.0]\n",
      "Optimal strategy for player 2: [1.0, 0.0]\n",
      "Value for player 1: 1.0\n",
      "Value for player 2: 1.0\n",
      "[[0 1]\n",
      " [3 2]]\n",
      "Value of the game: 2.0\n",
      "Optimal strategy for player 1: [0.0, 1.0]\n",
      "Optimal strategy for player 2: [0.0, 1.0]\n",
      "Value for player 1: 2.0\n",
      "Value for player 2: 2.0\n"
     ]
    }
   ],
   "source": [
    "A = [[2, 1],\n",
    "     [0, 3]]\n",
    "B = [[0, 3],\n",
    "     [1, 2]]\n",
    "B = np.array(B)\n",
    "print(B)\n",
    "game_solver.solve(B)\n",
    "B = B.T\n",
    "print(B)\n",
    "game_solver.solve(B)"
   ]
  }
 ],
 "metadata": {
  "kernelspec": {
   "display_name": "Python 3",
   "language": "python",
   "name": "python3"
  },
  "language_info": {
   "codemirror_mode": {
    "name": "ipython",
    "version": 3
   },
   "file_extension": ".py",
   "mimetype": "text/x-python",
   "name": "python",
   "nbconvert_exporter": "python",
   "pygments_lexer": "ipython3",
   "version": "3.12.4"
  }
 },
 "nbformat": 4,
 "nbformat_minor": 2
}
